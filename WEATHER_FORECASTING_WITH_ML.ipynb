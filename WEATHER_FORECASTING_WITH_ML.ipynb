{
  "nbformat": 4,
  "nbformat_minor": 0,
  "metadata": {
    "colab": {
      "name": "WEATHER FORECASTING WITH ML.ipynb",
      "provenance": []
    },
    "kernelspec": {
      "name": "python3",
      "display_name": "Python 3"
    },
    "language_info": {
      "name": "python"
    }
  },
  "cells": [
    {
      "cell_type": "code",
      "metadata": {
        "id": "YLM0rgZjs4ng"
      },
      "source": [
        "import warnings\n",
        "warnings.filterwarnings('ignore')\n",
        "import os\n",
        "import numpy as np\n",
        "import pandas as pd\n",
        "\n",
        "from matplotlib import pyplot as plt\n",
        "%matplotlib inline\n",
        "\n",
        "import sklearn\n",
        "from sklearn.model_selection import train_test_split\n",
        "from sklearn.metrics import accuracy_score\n",
        "\n",
        "from sklearn.linear_model import LinearRegression\n",
        "\n",
        "import tensorflow as tf\n",
        "from tensorflow import keras\n",
        "\n",
        "from sklearn import preprocessing"
      ],
      "execution_count": null,
      "outputs": []
    },
    {
      "cell_type": "markdown",
      "metadata": {
        "id": "t6lt1kpe2oSd"
      },
      "source": [
        "Importing the dataframe\n"
      ]
    },
    {
      "cell_type": "code",
      "metadata": {
        "id": "wM0FXRfn15Jx"
      },
      "source": [
        "from google.colab import files"
      ],
      "execution_count": null,
      "outputs": []
    },
    {
      "cell_type": "code",
      "metadata": {
        "colab": {
          "resources": {
            "http://localhost:8080/nbextensions/google.colab/files.js": {
              "data": "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",
              "ok": true,
              "headers": [
                [
                  "content-type",
                  "application/javascript"
                ]
              ],
              "status": 200,
              "status_text": ""
            }
          },
          "base_uri": "https://localhost:8080/",
          "height": 72
        },
        "id": "m6YT5btb4-kr",
        "outputId": "a6ccd604-a5d0-4adf-bcdb-c00a6620232b"
      },
      "source": [
        "uploaded = files.upload()\n"
      ],
      "execution_count": null,
      "outputs": [
        {
          "output_type": "display_data",
          "data": {
            "text/html": [
              "\n",
              "     <input type=\"file\" id=\"files-d2c87f0b-2398-47ba-b241-66f0795d661a\" name=\"files[]\" multiple disabled\n",
              "        style=\"border:none\" />\n",
              "     <output id=\"result-d2c87f0b-2398-47ba-b241-66f0795d661a\">\n",
              "      Upload widget is only available when the cell has been executed in the\n",
              "      current browser session. Please rerun this cell to enable.\n",
              "      </output>\n",
              "      <script src=\"/nbextensions/google.colab/files.js\"></script> "
            ],
            "text/plain": [
              "<IPython.core.display.HTML object>"
            ]
          },
          "metadata": {
            "tags": []
          }
        },
        {
          "output_type": "stream",
          "text": [
            "Saving weatherdata.csv to weatherdata.csv\n"
          ],
          "name": "stdout"
        }
      ]
    },
    {
      "cell_type": "code",
      "metadata": {
        "colab": {
          "base_uri": "https://localhost:8080/"
        },
        "id": "VpIgA4ke5JUN",
        "outputId": "afacf20a-7963-45c3-8e99-5390899b0db3"
      },
      "source": [
        "for fn in uploaded.keys():\n",
        "  print('User uploaded file \"{name}\" with length {length} bytes'.format(\n",
        "      name=fn, length=len(uploaded[fn])))"
      ],
      "execution_count": null,
      "outputs": [
        {
          "output_type": "stream",
          "text": [
            "User uploaded file \"weatherdata.csv\" with length 19412 bytes\n"
          ],
          "name": "stdout"
        }
      ]
    },
    {
      "cell_type": "code",
      "metadata": {
        "colab": {
          "base_uri": "https://localhost:8080/"
        },
        "id": "VVIMG2bh5nuO",
        "outputId": "0cdb8ac2-fc68-4ebb-fd1a-6e626ecdb4b4"
      },
      "source": [
        "uploaded"
      ],
      "execution_count": null,
      "outputs": [
        {
          "output_type": "execute_result",
          "data": {
            "text/plain": [
              "{'weatherdata.csv': b'Date,Time,Nairobi Temperature [2 m elevation corrected],Nairobi Relative Humidity [2 m],Nairobi Wind Speed [10 m],Nairobi Wind Direction [10 m]\\r\\n3/7/2021,12:00:00 AM,19.773151,53,9.220499,38.659805\\r\\n3/7/2021,1:00:00 AM,19.41315,54,8.707237,29.744873\\r\\n3/7/2021,2:00:00 AM,19.013151,55,8.373386,25.463333\\r\\n3/7/2021,3:00:00 AM,18.543152,57,7.729527,27.75853\\r\\n3/7/2021,4:00:00 AM,17.98315,59,7.10031,30.465546\\r\\n3/7/2021,5:00:00 AM,17.463152,61,7.289445,32.905228\\r\\n3/7/2021,6:00:00 AM,16.953152,64,6.763786,25.201126\\r\\n3/7/2021,7:00:00 AM,16.693151,66,6.2145634,10.00798\\r\\n3/7/2021,8:00:00 AM,18.213152,61,6.12,28.07248\\r\\n3/7/2021,9:00:00 AM,20.173151,57,9.957108,49.398697\\r\\n3/7/2021,10:00:00 AM,21.943151,52,12.7279215,61.2602\\r\\n3/7/2021,11:00:00 AM,23.66315,46,15.629971,61.073563\\r\\n3/7/2021,12:00:00 PM,25.24315,41,17.068707,62.354027\\r\\n3/7/2021,1:00:00 PM,26.513151,36,18.514643,63.43495\\r\\n3/7/2021,2:00:00 PM,27.05315,32,18.998316,62.9494\\r\\n3/7/2021,3:00:00 PM,27.343151,36,21.178896,58.20108\\r\\n3/7/2021,4:00:00 PM,27.16315,37,20.497883,59.381393\\r\\n3/7/2021,5:00:00 PM,26.453152,38,20.63023,60.751175\\r\\n3/7/2021,6:00:00 PM,25.72315,39,20.288164,62.52556\\r\\n3/7/2021,7:00:00 PM,24.593151,42,18.532133,65.92449\\r\\n3/7/2021,8:00:00 PM,23.48315,45,18.25026,67.98871\\r\\n3/7/2021,9:00:00 PM,22.49315,48,15.778518,62.85031\\r\\n3/7/2021,10:00:00 PM,21.353151,50,14.20062,59.534447\\r\\n3/7/2021,11:00:00 PM,20.56315,53,12.313894,52.125008\\r\\n3/8/2021,12:00:00 AM,20.56315,53,11.720751,47.489548\\r\\n3/8/2021,1:00:00 AM,20.14315,55,10.691453,44.999985\\r\\n3/8/2021,2:00:00 AM,19.22315,58,9.931042,46.468796\\r\\n3/8/2021,3:00:00 AM,18.74315,60,9.290511,54.46232\\r\\n3/8/2021,4:00:00 AM,18.193151,63,10.00256,59.74356\\r\\n3/8/2021,5:00:00 AM,17.683151,66,8.161764,48.576324\\r\\n3/8/2021,6:00:00 AM,17.24315,69,6.9153743,38.659805\\r\\n3/8/2021,7:00:00 AM,17.013151,71,6.6087217,29.357742\\r\\n3/8/2021,8:00:00 AM,18.213152,67,8.4963045,36.38434\\r\\n3/8/2021,9:00:00 AM,19.923151,62,9.422101,43.451828\\r\\n3/8/2021,10:00:00 AM,21.693151,55,11.792404,58.736267\\r\\n3/8/2021,11:00:00 AM,23.39315,49,14.168641,62.783897\\r\\n3/8/2021,12:00:00 PM,24.91315,45,15.778518,62.85031\\r\\n3/8/2021,1:00:00 PM,26.16315,36,17.906157,59.82647\\r\\n3/8/2021,2:00:00 PM,26.873152,32,19.022177,60.524117\\r\\n3/8/2021,3:00:00 PM,26.97315,34,20.26899,56.592163\\r\\n3/8/2021,4:00:00 PM,26.90315,35,20.87379,57.680374\\r\\n3/8/2021,5:00:00 PM,26.463152,36,21.120682,60.37625\\r\\n3/8/2021,6:00:00 PM,25.56315,38,20.288164,62.52556\\r\\n3/8/2021,7:00:00 PM,24.213152,42,17.072504,65.0561\\r\\n3/8/2021,8:00:00 PM,23.213152,47,15.978484,67.47943\\r\\n3/8/2021,9:00:00 PM,21.75315,53,14.658676,65.323135\\r\\n3/8/2021,10:00:00 PM,20.763151,55,12.4811535,56.768288\\r\\n3/8/2021,11:00:00 PM,20.23315,57,11.304229,52.76516\\r\\n3/9/2021,12:00:00 AM,19.783152,58,10.233123,50.7106\\r\\n3/9/2021,1:00:00 AM,19.433151,60,9.422101,46.54814\\r\\n3/9/2021,2:00:00 AM,19.00315,62,8.669949,41.63353\\r\\n3/9/2021,3:00:00 AM,19.07315,62,8.161764,48.576324\\r\\n3/9/2021,4:00:00 AM,18.513151,65,7.9036193,59.93141\\r\\n3/9/2021,5:00:00 AM,18.263151,66,6.638072,49.398697\\r\\n3/9/2021,6:00:00 AM,18.08315,68,6.1305785,40.236343\\r\\n3/9/2021,7:00:00 AM,17.623152,70,5.1919937,33.690063\\r\\n3/9/2021,8:00:00 AM,18.47315,68,7.2,36.86989\\r\\n3/9/2021,9:00:00 AM,19.99315,63,9.686609,41.987198\\r\\n3/9/2021,10:00:00 AM,21.603151,57,10.805998,60.018356\\r\\n3/9/2021,11:00:00 AM,23.113152,51,11.043261,70.97439\\r\\n3/9/2021,12:00:00 PM,24.513151,44,12.413476,73.141594\\r\\n3/9/2021,1:00:00 PM,25.703152,36,14.458382,71.113914\\r\\n3/9/2021,2:00:00 PM,26.543152,31,15.978484,67.47943\\r\\n3/9/2021,3:00:00 PM,27.013151,30,19.652176,61.557068\\r\\n3/9/2021,4:00:00 PM,26.853151,31,20.929594,63.43495\\r\\n3/9/2021,5:00:00 PM,26.353151,32,21.42227,65.1576\\r\\n3/9/2021,6:00:00 PM,25.49315,34,21.129885,66.92959\\r\\n3/9/2021,7:00:00 PM,24.043152,37,17.917007,67.55725\\r\\n3/9/2021,8:00:00 PM,22.82315,42,15.042659,68.962494\\r\\n3/9/2021,9:00:00 PM,21.593151,46,14.372974,67.9321\\r\\n3/9/2021,10:00:00 PM,20.593151,51,12.303366,69.443954\\r\\n3/9/2021,11:00:00 PM,19.57315,56,10.365251,69.67686\\r\\n3/10/2021,12:00:00 AM,19.31315,59,9.83268,66.250496\\r\\n3/10/2021,1:00:00 AM,18.603151,63,9.983106,64.358986\\r\\n3/10/2021,2:00:00 AM,17.953152,67,10.829958,68.55225\\r\\n3/10/2021,3:00:00 AM,17.113152,73,9.793058,72.89727\\r\\n3/10/2021,4:00:00 AM,16.363152,79,8.089993,69.14554\\r\\n3/10/2021,5:00:00 AM,16.183151,82,7.8954163,65.772255\\r\\n3/10/2021,6:00:00 AM,15.763151,86,8.217153,61.18921\\r\\n3/10/2021,7:00:00 AM,15.363151,90,8.942214,49.89908\\r\\n3/10/2021,8:00:00 AM,15.823151,89,10.009036,52.305756\\r\\n3/10/2021,9:00:00 AM,17.16315,82,11.609651,60.25511\\r\\n3/10/2021,10:00:00 AM,19.123152,69,13.584932,57.994614\\r\\n3/10/2021,11:00:00 AM,21.363152,55,14.693999,59.036255\\r\\n3/10/2021,12:00:00 PM,23.47315,45,16.904673,63.43495\\r\\n3/10/2021,1:00:00 PM,25.033152,37,19.319628,63.43495\\r\\n3/10/2021,2:00:00 PM,26.113152,32,21.096123,64.74683\\r\\n3/10/2021,3:00:00 PM,27.48315,25,22.226902,65.09524\\r\\n3/10/2021,4:00:00 PM,27.443151,26,22.461807,68.36911\\r\\n3/10/2021,5:00:00 PM,26.963152,26,22.79684,68.702644\\r\\n3/10/2021,6:00:00 PM,25.91315,29,21.868332,69.77514\\r\\n3/10/2021,7:00:00 PM,24.343151,33,17.58481,67.10944\\r\\n3/10/2021,8:00:00 PM,23.113152,39,15.137133,64.65382\\r\\n3/10/2021,9:00:00 PM,21.943151,44,14.33234,64.722275\\r\\n3/10/2021,10:00:00 PM,20.88315,49,13.049689,65.55604\\r\\n3/10/2021,11:00:00 PM,20.00315,54,11.269782,63.43495\\r\\n3/11/2021,12:00:00 AM,19.363152,59,10.495713,59.036232\\r\\n3/11/2021,1:00:00 AM,18.873152,63,10.1887,57.994614\\r\\n3/11/2021,2:00:00 AM,18.423151,66,10.630672,61.699234\\r\\n3/11/2021,3:00:00 AM,17.75315,70,9.511088,60.524117\\r\\n3/11/2021,4:00:00 AM,17.093151,75,8.435069,50.194427\\r\\n3/11/2021,5:00:00 AM,16.55315,78,7.491114,35.217575\\r\\n3/11/2021,6:00:00 AM,16.103151,80,6.763786,25.201126\\r\\n3/11/2021,7:00:00 AM,15.913151,81,6.151683,20.556046\\r\\n3/11/2021,8:00:00 AM,17.22315,78,7.145796,40.914368\\r\\n3/11/2021,9:00:00 AM,19.25315,70,11.384198,55.304832\\r\\n3/11/2021,10:00:00 AM,21.353151,60,14.81259,64.05769\\r\\n3/11/2021,11:00:00 AM,23.193151,50,16.92383,66.161255\\r\\n3/11/2021,12:00:00 PM,24.703152,44,17.447933,68.19859\\r\\n3/11/2021,1:00:00 PM,25.88315,41,18.331741,70.49754\\r\\n3/11/2021,2:00:00 PM,26.773151,34,19.353138,71.56504\\r\\n3/11/2021,3:00:00 PM,28.103151,28,22.427162,71.27421\\r\\n3/11/2021,4:00:00 PM,28.093151,25,22.206486,73.033844\\r\\n3/11/2021,5:00:00 PM,27.40315,28,21.758419,73.663956\\r\\n3/11/2021,6:00:00 PM,26.33315,30,21.068459,73.1132\\r\\n3/11/2021,7:00:00 PM,24.783152,34,16.394829,70.76932\\r\\n3/11/2021,8:00:00 PM,23.543152,38,14.24163,69.274445\\r\\n3/11/2021,9:00:00 PM,22.15315,42,14.458382,71.113914\\r\\n3/11/2021,10:00:00 PM,20.90315,47,13.207634,72.5528\\r\\n3/11/2021,11:00:00 PM,20.05315,51,12.303366,69.443954\\r\\n3/12/2021,12:00:00 AM,19.943151,53,11.440979,65.854454\\r\\n3/12/2021,1:00:00 AM,19.353151,56,11.440979,65.854454\\r\\n3/12/2021,2:00:00 AM,18.093151,62,11.298495,67.52056\\r\\n3/12/2021,3:00:00 AM,17.193151,68,10.00256,59.74356\\r\\n3/12/2021,4:00:00 AM,16.603151,74,8.913181,43.36342\\r\\n3/12/2021,5:00:00 AM,16.113152,79,8.78872,34.99202\\r\\n3/12/2021,6:00:00 AM,15.753151,82,7.9932966,35.837646\\r\\n3/12/2021,7:00:00 AM,15.663151,83,7.42159,39.09384\\r\\n3/12/2021,8:00:00 AM,16.763151,79,9.178235,48.179825\\r\\n3/12/2021,9:00:00 AM,18.843151,70,11.090103,54.2461\\r\\n3/12/2021,10:00:00 AM,21.08315,59,14.336861,61.50435\\r\\n3/12/2021,11:00:00 AM,23.343151,49,17.22742,63.970406\\r\\n3/12/2021,12:00:00 PM,25.183151,39,18.532133,65.92449\\r\\n3/12/2021,1:00:00 PM,26.57315,31,20.188908,68.008865\\r\\n3/12/2021,2:00:00 PM,27.533152,26,20.60823,70.61548\\r\\n3/12/2021,3:00:00 PM,27.82315,26,22.768398,71.56504\\r\\n3/12/2021,4:00:00 PM,27.683151,27,23.452555,72.1213\\r\\n3/12/2021,5:00:00 PM,27.05315,29,22.768398,71.56504\\r\\n3/12/2021,6:00:00 PM,25.933151,31,21.53089,69.443954\\r\\n3/12/2021,7:00:00 PM,24.453152,34,17.917007,67.55725\\r\\n3/12/2021,8:00:00 PM,23.263151,38,16.179985,69.14554\\r\\n3/12/2021,9:00:00 PM,21.89315,43,15.484185,72.40757\\r\\n3/12/2021,10:00:00 PM,20.66315,48,14.241629,73.85565\\r\\n3/12/2021,11:00:00 PM,19.853151,52,11.966953,68.83874\\r\\n3/13/2021,12:00:00 AM,19.293152,55,11.269782,63.43495\\r\\n3/13/2021,1:00:00 AM,18.66315,58,10.315115,60.751175\\r\\n3/13/2021,2:00:00 AM,18.05315,61,10.144082,62.52556\\r\\n3/13/2021,3:00:00 AM,17.38315,64,10.144082,62.52556\\r\\n3/13/2021,4:00:00 AM,16.773151,69,8.942214,49.89908\\r\\n3/13/2021,5:00:00 AM,16.30315,74,8.209263,37.87497\\r\\n3/13/2021,6:00:00 AM,15.883151,78,8.217153,28.810776\\r\\n3/13/2021,7:00:00 AM,15.673151,79,8.049845,26.565033\\r\\n3/13/2021,8:00:00 AM,16.97315,76,9.449572,40.364532\\r\\n3/13/2021,9:00:00 AM,18.80315,69,13.392774,53.746155\\r\\n3/13/2021,10:00:00 AM,20.923151,60,16.09969,63.43495\\r\\n3/13/2021,11:00:00 AM,22.89315,49,17.917007,67.55725\\r\\n3/13/2021,12:00:00 PM,24.443151,42,18.455048,69.443954\\r\\n3/13/2021,1:00:00 PM,25.673151,38,19.694992,71.89623\\r\\n3/13/2021,2:00:00 PM,26.47315,31,20.176065,74.47588\\r\\n3/13/2021,3:00:00 PM,27.75315,31,21.862406,72.75854\\r\\n3/13/2021,4:00:00 PM,27.63315,30,22.314194,72.14967\\r\\n3/13/2021,5:00:00 PM,26.99315,32,22.086521,70.97439\\r\\n3/13/2021,6:00:00 PM,25.90315,35,21.53089,69.443954\\r\\n3/13/2021,7:00:00 PM,24.433151,40,17.992796,70.11483\\r\\n3/13/2021,8:00:00 PM,23.713152,44,16.965895,72.7185\\r\\n3/13/2021,9:00:00 PM,22.873152,46,18.0036,78.46538\\r\\n3/13/2021,10:00:00 PM,21.25315,53,16.343367,82.40536\\r\\n3/13/2021,11:00:00 PM,20.56315,57,13.910169,79.56252\\r\\n3/14/2021,12:00:00 AM,19.443151,62,12.9249525,77.12499\\r\\n3/14/2021,1:00:00 AM,18.593151,66,12.496719,78.36636\\r\\n3/14/2021,2:00:00 AM,17.873152,70,11.252519,82.64761\\r\\n3/14/2021,3:00:00 AM,17.123152,75,8.905908,75.96376\\r\\n3/14/2021,4:00:00 AM,16.55315,81,7.24486,63.43495\\r\\n3/14/2021,5:00:00 AM,16.14315,84,6.8777895,47.121094\\r\\n3/14/2021,6:00:00 AM,15.97315,86,7.145796,40.914368\\r\\n3/14/2021,7:00:00 AM,16.00315,87,7.8954163,43.15239\\r\\n3/14/2021,8:00:00 AM,16.99315,82,9.726664,51.009003\\r\\n3/14/2021,9:00:00 AM,18.64315,74,12.24,61.927513\\r\\n3/14/2021,10:00:00 AM,20.83315,64,14.986553,65.89776\\r\\n3/14/2021,11:00:00 AM,22.82315,52,16.645864,68.42869\\r\\n3/14/2021,12:00:00 PM,24.623152,44,17.873554,71.2001\\r\\n3/14/2021,1:00:00 PM,25.773151,38,19.011953,71.22196\\r\\n3/14/2021,2:00:00 PM,26.593151,32,19.353138,71.56504\\r\\n3/14/2021,3:00:00 PM,28.49315,25,19.0392,74.64986\\r\\n3/14/2021,4:00:00 PM,28.32315,26,19.64558,76.2184\\r\\n3/14/2021,5:00:00 PM,27.75315,26,20.431387,75.718895\\r\\n3/14/2021,6:00:00 PM,26.73315,29,20.345573,76.70142\\r\\n3/14/2021,7:00:00 PM,25.263151,33,16.595179,77.47118\\r\\n3/14/2021,8:00:00 PM,23.963152,38,14.332341,78.40782\\r\\n3/14/2021,9:00:00 PM,22.343151,43,13.910169,79.56252\\r\\n3/14/2021,10:00:00 PM,21.273151,48,13.138765,80.537674\\r\\n3/14/2021,11:00:00 PM,20.66315,52,12.496719,78.36636\\r\\n3/15/2021,12:00:00 AM,19.593151,58,11.525623,75.52971\\r\\n3/15/2021,1:00:00 AM,18.58315,63,11.659777,81.11935\\r\\n3/15/2021,2:00:00 AM,17.533152,69,9.178235,78.69006\\r\\n3/15/2021,3:00:00 AM,16.65315,77,7.8954163,65.772255\\r\\n3/15/2021,4:00:00 AM,16.38315,82,7.491114,54.782394\\r\\n3/15/2021,5:00:00 AM,16.213152,86,9.085988,56.30993\\r\\n3/15/2021,6:00:00 AM,15.893151,89,8.435069,50.194427\\r\\n3/15/2021,7:00:00 AM,15.823151,90,7.42159,50.906143\\r\\n3/15/2021,8:00:00 AM,16.533152,87,7.2,53.130096\\r\\n3/15/2021,9:00:00 AM,18.263151,77,7.5942082,58.570435\\r\\n3/15/2021,10:00:00 AM,20.75315,64,9.904906,70.90651\\r\\n3/15/2021,11:00:00 AM,23.023151,54,12.661564,75.17352\\r\\n3/15/2021,12:00:00 PM,24.88315,46,12.864649,72.072075\\r\\n3/15/2021,1:00:00 PM,25.16315,42,13.237039,67.61986\\r\\n3/15/2021,2:00:00 PM,26.64315,35,14.84318,67.166336\\r\\n3/15/2021,3:00:00 PM,27.81315,29,20.082708,75.465546\\r\\n3/15/2021,4:00:00 PM,27.693151,28,23.83896,75.12432\\r\\n3/15/2021,5:00:00 PM,26.943151,31,24.066206,68.03943\\r\\n3/15/2021,6:00:00 PM,25.49315,35,22.930048,67.86451\\r\\n3/15/2021,7:00:00 PM,23.863152,42,18.681883,64.9164\\r\\n3/15/2021,8:00:00 PM,23.07315,45,16.75064,61.782646\\r\\n3/15/2021,9:00:00 PM,22.58315,47,17.917007,67.55725\\r\\n3/15/2021,10:00:00 PM,21.873152,50,19.242327,72.58202\\r\\n3/15/2021,11:00:00 PM,21.293152,52,17.377226,76.827446\\r\\n3/16/2021,12:00:00 AM,20.683151,56,16.071491,74.40718\\r\\n3/16/2021,1:00:00 AM,19.97315,60,14.934577,74.62374\\r\\n3/16/2021,2:00:00 AM,19.343151,63,15.226764,83.21102\\r\\n3/16/2021,3:00:00 AM,18.55315,69,13.339445,86.90593\\r\\n3/16/2021,4:00:00 AM,17.33315,80,12.413477,60.46122\\r\\n3/16/2021,5:00:00 AM,16.953152,85,11.91812,64.98311\\r\\n3/16/2021,6:00:00 AM,16.593151,90,11.966953,68.83874\\r\\n3/16/2021,7:00:00 AM,16.363152,94,11.384199,71.56504\\r\\n3/16/2021,8:00:00 AM,16.363152,93,11.841756,70.46334\\r\\n3/16/2021,9:00:00 AM,16.923151,89,11.298495,67.52056\\r\\n3/16/2021,10:00:00 AM,17.963152,83,11.592895,64.23067\\r\\n3/16/2021,11:00:00 AM,19.283152,73,11.681987,56.30993\\r\\n3/16/2021,12:00:00 PM,19.49315,70,11.753876,49.96974\\r\\n3/16/2021,1:00:00 PM,20.703152,65,12.738099,47.29059\\r\\n3/16/2021,2:00:00 PM,21.863152,59,13.608762,52.52382\\r\\n3/16/2021,3:00:00 PM,22.39315,56,14.57889,57.094757\\r\\n3/16/2021,4:00:00 PM,23.273151,50,22.127556,68.02549\\r\\n3/16/2021,5:00:00 PM,23.24315,49,22.427162,71.27421\\r\\n3/16/2021,6:00:00 PM,22.693151,49,21.518847,72.474434\\r\\n3/16/2021,7:00:00 PM,21.63315,53,17.068707,62.354027\\r\\n3/16/2021,8:00:00 PM,20.603151,58,14.113652,52.25319\\r\\n3/16/2021,9:00:00 PM,19.793152,62,12.496718,48.503525\\r\\n3/16/2021,10:00:00 PM,19.14315,65,11.480557,41.18593\\r\\n3/16/2021,11:00:00 PM,18.66315,67,10.514218,38.047028\\r\\n3/17/2021,12:00:00 AM,18.25315,69,8.714677,38.290146\\r\\n3/17/2021,1:00:00 AM,17.873152,71,7.4128532,29.05458\\r\\n3/17/2021,2:00:00 AM,17.57315,72,7.5685663,25.34616\\r\\n3/17/2021,3:00:00 AM,17.32315,74,7.4128532,29.05458\\r\\n3/17/2021,4:00:00 AM,16.91315,77,7.653705,48.81407\\r\\n3/17/2021,5:00:00 AM,16.363152,81,7.42159,39.09384\\r\\n3/17/2021,6:00:00 AM,15.903151,85,8.209263,37.87497\\r\\n3/17/2021,7:00:00 AM,15.803151,87,7.5942082,31.42955\\r\\n3/17/2021,8:00:00 AM,16.953152,81,9.290511,35.53766\\r\\n3/17/2021,9:00:00 AM,18.74315,73,11.457958,43.726974\\r\\n3/17/2021,10:00:00 AM,20.82315,64,14.113652,52.25319\\r\\n3/17/2021,11:00:00 AM,21.613152,58,15.463246,65.22487\\r\\n3/17/2021,12:00:00 PM,23.623152,50,16.45007,66.8014\\r\\n3/17/2021,1:00:00 PM,24.66315,45,17.87718,64.98311\\r\\n3/17/2021,2:00:00 PM,25.513151,41,19.008547,65.37643\\r\\n3/17/2021,3:00:00 PM,26.013151,40,18.681883,64.9164\\r\\n3/17/2021,4:00:00 PM,25.793152,40,18.448023,72.97948\\r\\n3/17/2021,5:00:00 PM,24.89315,41,18.388212,66.94869\\r\\n3/17/2021,6:00:00 PM,24.183151,43,17.917007,67.55725\\r\\n3/17/2021,7:00:00 PM,22.963152,46,14.512064,66.61478\\r\\n3/17/2021,8:00:00 PM,22.14315,49,12.43434,67.89055\\r\\n3/17/2021,9:00:00 PM,21.22315,52,11.966954,74.29136\\r\\n3/17/2021,10:00:00 PM,20.213152,56,11.726277,72.1213\\r\\n3/17/2021,11:00:00 PM,19.38315,60,10.144082,62.52556\\r\\n3/18/2021,12:00:00 AM,18.83315,64,9.387651,57.5288\\r\\n3/18/2021,1:00:00 AM,18.423151,66,9.504272,52.696053\\r\\n3/18/2021,2:00:00 AM,18.043152,68,9.957108,49.398697\\r\\n3/18/2021,3:00:00 AM,17.613152,70,9.957108,49.398697\\r\\n3/18/2021,4:00:00 AM,17.08315,73,7.4128532,29.05458\\r\\n3/18/2021,5:00:00 AM,16.55315,77,6.439876,26.565033\\r\\n3/18/2021,6:00:00 AM,16.123152,80,6.9527545,21.250488\\r\\n3/18/2021,7:00:00 AM,16.06315,81,7.172949,17.525558\\r\\n3/18/2021,8:00:00 AM,17.58315,72,9.387651,32.47119\\r\\n3/18/2021,9:00:00 AM,19.50315,65,11.457958,46.27301\\r\\n3/18/2021,10:00:00 AM,21.273151,59,12.181624,55.840294\\r\\n3/18/2021,11:00:00 AM,23.173151,51,13.202726,64.13365\\r\\n3/18/2021,12:00:00 PM,24.98315,44,14.84318,67.166336\\r\\n3/18/2021,1:00:00 PM,26.23315,39,16.854767,70.016884\\r\\n3/18/2021,2:00:00 PM,26.963152,35,18.58451,68.404686\\r\\n3/18/2021,3:00:00 PM,27.23315,33,19.255793,69.19321\\r\\n3/18/2021,4:00:00 PM,26.953152,33,19.134262,85.683975\\r\\n3/18/2021,5:00:00 PM,26.32315,35,19.296133,75.96376\\r\\n3/18/2021,6:00:00 PM,25.40315,37,18.214718,71.56504\\r\\n3/18/2021,7:00:00 PM,24.183151,40,15.141414,71.995834\\r\\n3/18/2021,8:00:00 PM,23.043152,45,13.661038,71.56504\\r\\n3/18/2021,9:00:00 PM,21.91315,49,12.43434,67.89055\\r\\n3/18/2021,10:00:00 PM,20.90315,54,11.966954,74.29136\\r\\n3/18/2021,11:00:00 PM,19.933151,59,12.144331,78.023865\\r\\n3/19/2021,12:00:00 AM,19.173151,63,10.739833,76.42956\\r\\n3/19/2021,1:00:00 AM,18.64315,67,9.449572,72.255325\\r\\n3/19/2021,2:00:00 AM,18.33315,69,9.178235,64.440025\\r\\n3/19/2021,3:00:00 AM,17.97315,71,8.699793,65.55604\\r\\n3/19/2021,4:00:00 AM,18.013151,73,8.78872,55.007973\\r\\n3/19/2021,5:00:00 AM,17.33315,79,8.714677,51.70984\\r\\n3/19/2021,6:00:00 AM,16.72315,84,7.653705,48.81407\\r\\n3/19/2021,7:00:00 AM,16.32315,87,7.653705,41.18593\\r\\n3/19/2021,8:00:00 AM,17.57315,82,10.691453,44.999985\\r\\n3/19/2021,9:00:00 AM,19.423151,73,12.984975,43.876694\\r\\n3/19/2021,10:00:00 AM,21.433151,62,15.349684,50.71057\\r\\n3/19/2021,11:00:00 AM,23.15315,53,16.299694,59.4703\\r\\n3/19/2021,12:00:00 PM,24.49315,46,16.746773,64.53666\\r\\n3/19/2021,1:00:00 PM,25.55315,41,17.727943,66.037506\\r\\n3/19/2021,2:00:00 PM,26.423151,38,18.11841,69.04422\\r\\n3/19/2021,3:00:00 PM,26.923151,35,19.137648,73.61045\\r\\n3/19/2021,4:00:00 PM,26.58315,36,22.963936,76.39945\\r\\n3/19/2021,5:00:00 PM,25.513151,40,21.53089,69.443954\\r\\n3/19/2021,6:00:00 PM,24.22315,44,20.799152,66.54097\\r\\n3/19/2021,7:00:00 PM,22.80315,50,16.58346,62.878693\\r\\n3/19/2021,8:00:00 PM,21.943151,53,15.277749,55.560997\\r\\n3/19/2021,9:00:00 PM,21.103151,57,15.192682,53.673157\\r\\n3/19/2021,10:00:00 PM,20.043152,63,14.565548,50.013107\\r\\n3/19/2021,11:00:00 PM,19.623152,66,13.044722,50.599335\\r\\n3/20/2021,12:00:00 AM,18.98315,69,11.246759,50.194427\\r\\n3/20/2021,1:00:00 AM,18.683151,70,11.090103,54.2461\\r\\n3/20/2021,2:00:00 AM,18.40315,71,11.753877,62.65013\\r\\n3/20/2021,3:00:00 AM,18.23315,72,13.779114,70.14478\\r\\n3/20/2021,4:00:00 AM,17.15315,76,8.714677,51.70984\\r\\n3/20/2021,5:00:00 AM,16.343151,82,8.209263,52.125\\r\\n3/20/2021,6:00:00 AM,16.33315,83,8.287822,55.61966\\r\\n3/20/2021,7:00:00 AM,16.293152,86,8.707237,60.25511\\r\\n3/20/2021,8:00:00 AM,16.50315,88,9.360001,67.380135\\r\\n3/20/2021,9:00:00 AM,17.593151,82,11.298495,59.34932\\r\\n3/20/2021,10:00:00 AM,20.193151,69,14.386494,58.29856\\r\\n3/20/2021,11:00:00 AM,22.40315,57,16.263872,62.30053\\r\\n3/20/2021,12:00:00 PM,24.263151,48,17.87718,64.98311\\r\\n3/20/2021,1:00:00 PM,25.603151,42,19.813087,65.29757\\r\\n3/20/2021,2:00:00 PM,26.22315,39,21.096123,64.74683\\r\\n3/20/2021,3:00:00 PM,26.50315,38,20.945072,65.63754\\r\\n3/20/2021,4:00:00 PM,26.25315,38,22.553936,61.38954\\r\\n3/20/2021,5:00:00 PM,25.08315,42,21.434364,60.851913\\r\\n3/20/2021,6:00:00 PM,23.863152,46,21.749481,65.55604\\r\\n3/20/2021,7:00:00 PM,22.283152,54,19.008547,65.37643\\r\\n3/20/2021,8:00:00 PM,21.423151,59,15.496736,59.26451\\r\\n3/20/2021,9:00:00 PM,20.49315,65,16.704155,52.88314\\r\\n3/20/2021,10:00:00 PM,20.193151,67,16.78156,54.605194\\r\\n3/20/2021,11:00:00 PM,19.57315,70,16.78156,54.605194\\r\\n3/21/2021,12:00:00 AM,19.38315,71,15.192682,53.673157\\r\\n3/21/2021,1:00:00 AM,19.05315,73,14.386494,58.29856\\r\\n3/21/2021,2:00:00 AM,18.603151,76,15.617529,64.02559\\r\\n3/21/2021,3:00:00 AM,18.16315,79,15.459054,62.241455\\r\\n3/21/2021,4:00:00 AM,17.72315,81,11.770403,66.571304\\r\\n3/21/2021,5:00:00 AM,17.40315,84,12.245293,65.69545\\r\\n3/21/2021,6:00:00 AM,16.99315,87,11.165805,69.22774\\r\\n3/21/2021,7:00:00 AM,16.33315,93,10.483357,74.054596\\r\\n3/21/2021,8:00:00 AM,16.31315,93,9.793058,72.89727\\r\\n3/21/2021,9:00:00 AM,16.873152,90,9.983106,64.358986\\r\\n3/21/2021,10:00:00 AM,17.953152,84,11.246759,50.194427\\r\\n3/21/2021,11:00:00 AM,20.38315,70,14.565548,39.986877\\r\\n3/21/2021,12:00:00 PM,21.673151,63,15.530151,44.06079\\r\\n3/21/2021,1:00:00 PM,22.13315,59,15.072783,49.843994\\r\\n3/21/2021,2:00:00 PM,22.533152,56,15.9134655,52.352364\\r\\n3/21/2021,3:00:00 PM,22.773151,55,16.87398,56.30993\\r\\n3/21/2021,4:00:00 PM,22.50315,55,17.595861,59.237274\\r\\n3/21/2021,5:00:00 PM,21.97315,57,17.477621,57.619316\\r\\n3/21/2021,6:00:00 PM,21.793152,58,17.0763,55.304832\\r\\n3/21/2021,7:00:00 PM,20.80315,62,13.18308,55.007973\\r\\n3/21/2021,8:00:00 PM,20.103151,65,11.592894,53.841812\\r\\n3/21/2021,9:00:00 PM,19.47315,68,10.739832,50.440323\\r\\n3/21/2021,10:00:00 PM,18.99315,70,9.931042,46.468796\\r\\n3/21/2021,11:00:00 PM,18.58315,72,9.178235,41.82016\\r\\n'}"
            ]
          },
          "metadata": {
            "tags": []
          },
          "execution_count": 7
        }
      ]
    },
    {
      "cell_type": "code",
      "metadata": {
        "id": "njNZbw5m5rJm"
      },
      "source": [
        "import io"
      ],
      "execution_count": null,
      "outputs": []
    },
    {
      "cell_type": "code",
      "metadata": {
        "id": "dgMeKNn-5977"
      },
      "source": [
        "df = pd.read_csv(io.StringIO(uploaded['weatherdata.csv'].decode('utf-8')))"
      ],
      "execution_count": null,
      "outputs": []
    },
    {
      "cell_type": "markdown",
      "metadata": {
        "id": "kVNTd5kJ6PtD"
      },
      "source": [
        "Checking dataframe head"
      ]
    },
    {
      "cell_type": "code",
      "metadata": {
        "colab": {
          "base_uri": "https://localhost:8080/",
          "height": 306
        },
        "id": "jbyXDksv6BYL",
        "outputId": "c1625a71-37e7-41b1-c790-205725e27d42"
      },
      "source": [
        "df.head()"
      ],
      "execution_count": null,
      "outputs": [
        {
          "output_type": "execute_result",
          "data": {
            "text/html": [
              "<div>\n",
              "<style scoped>\n",
              "    .dataframe tbody tr th:only-of-type {\n",
              "        vertical-align: middle;\n",
              "    }\n",
              "\n",
              "    .dataframe tbody tr th {\n",
              "        vertical-align: top;\n",
              "    }\n",
              "\n",
              "    .dataframe thead th {\n",
              "        text-align: right;\n",
              "    }\n",
              "</style>\n",
              "<table border=\"1\" class=\"dataframe\">\n",
              "  <thead>\n",
              "    <tr style=\"text-align: right;\">\n",
              "      <th></th>\n",
              "      <th>Date</th>\n",
              "      <th>Time</th>\n",
              "      <th>Nairobi Temperature [2 m elevation corrected]</th>\n",
              "      <th>Nairobi Relative Humidity [2 m]</th>\n",
              "      <th>Nairobi Wind Speed [10 m]</th>\n",
              "      <th>Nairobi Wind Direction [10 m]</th>\n",
              "    </tr>\n",
              "  </thead>\n",
              "  <tbody>\n",
              "    <tr>\n",
              "      <th>0</th>\n",
              "      <td>3/7/2021</td>\n",
              "      <td>12:00:00 AM</td>\n",
              "      <td>19.773151</td>\n",
              "      <td>53</td>\n",
              "      <td>9.220499</td>\n",
              "      <td>38.659805</td>\n",
              "    </tr>\n",
              "    <tr>\n",
              "      <th>1</th>\n",
              "      <td>3/7/2021</td>\n",
              "      <td>1:00:00 AM</td>\n",
              "      <td>19.413150</td>\n",
              "      <td>54</td>\n",
              "      <td>8.707237</td>\n",
              "      <td>29.744873</td>\n",
              "    </tr>\n",
              "    <tr>\n",
              "      <th>2</th>\n",
              "      <td>3/7/2021</td>\n",
              "      <td>2:00:00 AM</td>\n",
              "      <td>19.013151</td>\n",
              "      <td>55</td>\n",
              "      <td>8.373386</td>\n",
              "      <td>25.463333</td>\n",
              "    </tr>\n",
              "    <tr>\n",
              "      <th>3</th>\n",
              "      <td>3/7/2021</td>\n",
              "      <td>3:00:00 AM</td>\n",
              "      <td>18.543152</td>\n",
              "      <td>57</td>\n",
              "      <td>7.729527</td>\n",
              "      <td>27.758530</td>\n",
              "    </tr>\n",
              "    <tr>\n",
              "      <th>4</th>\n",
              "      <td>3/7/2021</td>\n",
              "      <td>4:00:00 AM</td>\n",
              "      <td>17.983150</td>\n",
              "      <td>59</td>\n",
              "      <td>7.100310</td>\n",
              "      <td>30.465546</td>\n",
              "    </tr>\n",
              "  </tbody>\n",
              "</table>\n",
              "</div>"
            ],
            "text/plain": [
              "       Date  ... Nairobi Wind Direction [10 m]\n",
              "0  3/7/2021  ...                     38.659805\n",
              "1  3/7/2021  ...                     29.744873\n",
              "2  3/7/2021  ...                     25.463333\n",
              "3  3/7/2021  ...                     27.758530\n",
              "4  3/7/2021  ...                     30.465546\n",
              "\n",
              "[5 rows x 6 columns]"
            ]
          },
          "metadata": {
            "tags": []
          },
          "execution_count": 11
        }
      ]
    },
    {
      "cell_type": "markdown",
      "metadata": {
        "id": "XKFF-iAO6W4O"
      },
      "source": [
        "Checking the columns in the dataframe"
      ]
    },
    {
      "cell_type": "code",
      "metadata": {
        "colab": {
          "base_uri": "https://localhost:8080/"
        },
        "id": "E_QvT_6Q6JFO",
        "outputId": "ac6b7931-e95a-4e48-c6d6-f72e55cf93a2"
      },
      "source": [
        "df.columns"
      ],
      "execution_count": null,
      "outputs": [
        {
          "output_type": "execute_result",
          "data": {
            "text/plain": [
              "Index(['Date', 'Time', 'Nairobi Temperature [2 m elevation corrected]',\n",
              "       'Nairobi Relative Humidity [2 m]', 'Nairobi Wind Speed [10 m]',\n",
              "       'Nairobi Wind Direction [10 m]'],\n",
              "      dtype='object')"
            ]
          },
          "metadata": {
            "tags": []
          },
          "execution_count": 12
        }
      ]
    },
    {
      "cell_type": "markdown",
      "metadata": {
        "id": "g51IrA2b6gqv"
      },
      "source": [
        "shape of the dataframe"
      ]
    },
    {
      "cell_type": "code",
      "metadata": {
        "colab": {
          "base_uri": "https://localhost:8080/"
        },
        "id": "7nHYNyaR6drS",
        "outputId": "4f652ef1-8800-44b0-9086-046911acd2c5"
      },
      "source": [
        "\n",
        "df.shape"
      ],
      "execution_count": null,
      "outputs": [
        {
          "output_type": "execute_result",
          "data": {
            "text/plain": [
              "(360, 6)"
            ]
          },
          "metadata": {
            "tags": []
          },
          "execution_count": 13
        }
      ]
    },
    {
      "cell_type": "markdown",
      "metadata": {
        "id": "-ZcRDThs6pxq"
      },
      "source": [
        "dataset description"
      ]
    },
    {
      "cell_type": "code",
      "metadata": {
        "colab": {
          "base_uri": "https://localhost:8080/",
          "height": 314
        },
        "id": "56mow2MU6j4L",
        "outputId": "5a203ef8-e0bb-4251-8bf0-7f97d6fac98f"
      },
      "source": [
        "df.describe()"
      ],
      "execution_count": null,
      "outputs": [
        {
          "output_type": "execute_result",
          "data": {
            "text/html": [
              "<div>\n",
              "<style scoped>\n",
              "    .dataframe tbody tr th:only-of-type {\n",
              "        vertical-align: middle;\n",
              "    }\n",
              "\n",
              "    .dataframe tbody tr th {\n",
              "        vertical-align: top;\n",
              "    }\n",
              "\n",
              "    .dataframe thead th {\n",
              "        text-align: right;\n",
              "    }\n",
              "</style>\n",
              "<table border=\"1\" class=\"dataframe\">\n",
              "  <thead>\n",
              "    <tr style=\"text-align: right;\">\n",
              "      <th></th>\n",
              "      <th>Nairobi Temperature [2 m elevation corrected]</th>\n",
              "      <th>Nairobi Relative Humidity [2 m]</th>\n",
              "      <th>Nairobi Wind Speed [10 m]</th>\n",
              "      <th>Nairobi Wind Direction [10 m]</th>\n",
              "    </tr>\n",
              "  </thead>\n",
              "  <tbody>\n",
              "    <tr>\n",
              "      <th>count</th>\n",
              "      <td>360.000000</td>\n",
              "      <td>360.000000</td>\n",
              "      <td>360.000000</td>\n",
              "      <td>360.000000</td>\n",
              "    </tr>\n",
              "    <tr>\n",
              "      <th>mean</th>\n",
              "      <td>21.165401</td>\n",
              "      <td>57.047222</td>\n",
              "      <td>13.795151</td>\n",
              "      <td>59.721306</td>\n",
              "    </tr>\n",
              "    <tr>\n",
              "      <th>std</th>\n",
              "      <td>3.648740</td>\n",
              "      <td>17.570407</td>\n",
              "      <td>4.703340</td>\n",
              "      <td>13.658555</td>\n",
              "    </tr>\n",
              "    <tr>\n",
              "      <th>min</th>\n",
              "      <td>15.363151</td>\n",
              "      <td>25.000000</td>\n",
              "      <td>5.191994</td>\n",
              "      <td>10.007980</td>\n",
              "    </tr>\n",
              "    <tr>\n",
              "      <th>25%</th>\n",
              "      <td>18.075650</td>\n",
              "      <td>42.000000</td>\n",
              "      <td>9.886850</td>\n",
              "      <td>52.125006</td>\n",
              "    </tr>\n",
              "    <tr>\n",
              "      <th>50%</th>\n",
              "      <td>20.633150</td>\n",
              "      <td>57.000000</td>\n",
              "      <td>13.160922</td>\n",
              "      <td>63.434950</td>\n",
              "    </tr>\n",
              "    <tr>\n",
              "      <th>75%</th>\n",
              "      <td>24.365651</td>\n",
              "      <td>70.000000</td>\n",
              "      <td>17.764346</td>\n",
              "      <td>69.239416</td>\n",
              "    </tr>\n",
              "    <tr>\n",
              "      <th>max</th>\n",
              "      <td>28.493150</td>\n",
              "      <td>94.000000</td>\n",
              "      <td>24.066206</td>\n",
              "      <td>86.905930</td>\n",
              "    </tr>\n",
              "  </tbody>\n",
              "</table>\n",
              "</div>"
            ],
            "text/plain": [
              "       Nairobi Temperature [2 m elevation corrected]  ...  Nairobi Wind Direction [10 m]\n",
              "count                                     360.000000  ...                     360.000000\n",
              "mean                                       21.165401  ...                      59.721306\n",
              "std                                         3.648740  ...                      13.658555\n",
              "min                                        15.363151  ...                      10.007980\n",
              "25%                                        18.075650  ...                      52.125006\n",
              "50%                                        20.633150  ...                      63.434950\n",
              "75%                                        24.365651  ...                      69.239416\n",
              "max                                        28.493150  ...                      86.905930\n",
              "\n",
              "[8 rows x 4 columns]"
            ]
          },
          "metadata": {
            "tags": []
          },
          "execution_count": 14
        }
      ]
    },
    {
      "cell_type": "markdown",
      "metadata": {
        "id": "500WAB0j6-ZD"
      },
      "source": [
        "from this the mean of the temperature is approx 20 and deviation is 3 "
      ]
    },
    {
      "cell_type": "markdown",
      "metadata": {
        "id": "T1i_aV_97bTV"
      },
      "source": [
        "checking for any missing values"
      ]
    },
    {
      "cell_type": "code",
      "metadata": {
        "colab": {
          "base_uri": "https://localhost:8080/"
        },
        "id": "AWD_1Aqx6vxp",
        "outputId": "ff143a13-2cbf-4bb4-895d-7d317827a34b"
      },
      "source": [
        "df.isnull().any()"
      ],
      "execution_count": null,
      "outputs": [
        {
          "output_type": "execute_result",
          "data": {
            "text/plain": [
              "Date                                             False\n",
              "Time                                             False\n",
              "Nairobi Temperature [2 m elevation corrected]    False\n",
              "Nairobi Relative Humidity [2 m]                  False\n",
              "Nairobi Wind Speed [10 m]                        False\n",
              "Nairobi Wind Direction [10 m]                    False\n",
              "dtype: bool"
            ]
          },
          "metadata": {
            "tags": []
          },
          "execution_count": 15
        }
      ]
    },
    {
      "cell_type": "markdown",
      "metadata": {
        "id": "0aTFoUoX7onj"
      },
      "source": [
        "from that there are no missing values in the dataset"
      ]
    },
    {
      "cell_type": "markdown",
      "metadata": {
        "id": "lG32ofu670I9"
      },
      "source": [
        "separating the temperature column for processing"
      ]
    },
    {
      "cell_type": "code",
      "metadata": {
        "id": "is0qz-Ml8c7Q"
      },
      "source": [
        "df_num = df[list(df.dtypes[df.dtypes!='object'].index)]"
      ],
      "execution_count": null,
      "outputs": []
    },
    {
      "cell_type": "code",
      "metadata": {
        "id": "QAp9c42D7jpf"
      },
      "source": [
        "y= df_num.pop('Nairobi Temperature [2 m elevation corrected]')\n",
        "x= df_num"
      ],
      "execution_count": null,
      "outputs": []
    },
    {
      "cell_type": "markdown",
      "metadata": {
        "id": "FcI85ZBm8z6l"
      },
      "source": [
        "splitting the dataset into training and testing"
      ]
    },
    {
      "cell_type": "code",
      "metadata": {
        "id": "_xTR31LI8XnZ"
      },
      "source": [
        "train_x,test_x,train_y, test_y = train_test_split(x,y,test_size = 0.2, random_state = 4)"
      ],
      "execution_count": null,
      "outputs": []
    },
    {
      "cell_type": "code",
      "metadata": {
        "colab": {
          "base_uri": "https://localhost:8080/",
          "height": 204
        },
        "id": "UvoOJVPz-_sM",
        "outputId": "540905e7-eb96-4305-8c7b-51c69909567b"
      },
      "source": [
        "train_x.head()"
      ],
      "execution_count": null,
      "outputs": [
        {
          "output_type": "execute_result",
          "data": {
            "text/html": [
              "<div>\n",
              "<style scoped>\n",
              "    .dataframe tbody tr th:only-of-type {\n",
              "        vertical-align: middle;\n",
              "    }\n",
              "\n",
              "    .dataframe tbody tr th {\n",
              "        vertical-align: top;\n",
              "    }\n",
              "\n",
              "    .dataframe thead th {\n",
              "        text-align: right;\n",
              "    }\n",
              "</style>\n",
              "<table border=\"1\" class=\"dataframe\">\n",
              "  <thead>\n",
              "    <tr style=\"text-align: right;\">\n",
              "      <th></th>\n",
              "      <th>Nairobi Relative Humidity [2 m]</th>\n",
              "      <th>Nairobi Wind Speed [10 m]</th>\n",
              "      <th>Nairobi Wind Direction [10 m]</th>\n",
              "    </tr>\n",
              "  </thead>\n",
              "  <tbody>\n",
              "    <tr>\n",
              "      <th>45</th>\n",
              "      <td>53</td>\n",
              "      <td>14.658676</td>\n",
              "      <td>65.323135</td>\n",
              "    </tr>\n",
              "    <tr>\n",
              "      <th>303</th>\n",
              "      <td>35</td>\n",
              "      <td>19.137648</td>\n",
              "      <td>73.610450</td>\n",
              "    </tr>\n",
              "    <tr>\n",
              "      <th>100</th>\n",
              "      <td>75</td>\n",
              "      <td>8.435069</td>\n",
              "      <td>50.194427</td>\n",
              "    </tr>\n",
              "    <tr>\n",
              "      <th>188</th>\n",
              "      <td>38</td>\n",
              "      <td>14.332341</td>\n",
              "      <td>78.407820</td>\n",
              "    </tr>\n",
              "    <tr>\n",
              "      <th>33</th>\n",
              "      <td>62</td>\n",
              "      <td>9.422101</td>\n",
              "      <td>43.451828</td>\n",
              "    </tr>\n",
              "  </tbody>\n",
              "</table>\n",
              "</div>"
            ],
            "text/plain": [
              "     Nairobi Relative Humidity [2 m]  ...  Nairobi Wind Direction [10 m]\n",
              "45                                53  ...                      65.323135\n",
              "303                               35  ...                      73.610450\n",
              "100                               75  ...                      50.194427\n",
              "188                               38  ...                      78.407820\n",
              "33                                62  ...                      43.451828\n",
              "\n",
              "[5 rows x 3 columns]"
            ]
          },
          "metadata": {
            "tags": []
          },
          "execution_count": 22
        }
      ]
    },
    {
      "cell_type": "markdown",
      "metadata": {
        "id": "srkeNArF_St1"
      },
      "source": [
        "from the split, train_x has all features except Nairobi Temperature [2 m elevation corrected] "
      ]
    },
    {
      "cell_type": "markdown",
      "metadata": {
        "id": "UKMqG_xf_j28"
      },
      "source": [
        "implementing the first model- Linear Regression"
      ]
    },
    {
      "cell_type": "code",
      "metadata": {
        "colab": {
          "base_uri": "https://localhost:8080/"
        },
        "id": "ac20BYGz_QFN",
        "outputId": "046914ab-da69-4ad2-87ac-944246287aaa"
      },
      "source": [
        "model = LinearRegression()\n",
        "model.fit(train_x,train_y)"
      ],
      "execution_count": null,
      "outputs": [
        {
          "output_type": "execute_result",
          "data": {
            "text/plain": [
              "LinearRegression(copy_X=True, fit_intercept=True, n_jobs=None, normalize=False)"
            ]
          },
          "metadata": {
            "tags": []
          },
          "execution_count": 23
        }
      ]
    },
    {
      "cell_type": "code",
      "metadata": {
        "id": "IRebWSeY_zaB"
      },
      "source": [
        "prediction = model.predict(test_x)"
      ],
      "execution_count": null,
      "outputs": []
    },
    {
      "cell_type": "code",
      "metadata": {
        "colab": {
          "base_uri": "https://localhost:8080/"
        },
        "id": "CJo0dz0C_879",
        "outputId": "201fabd9-4875-4234-dc78-4cf9df1a43f0"
      },
      "source": [
        "##calculating the  error\n",
        "np.mean((prediction-test_y)**2)"
      ],
      "execution_count": null,
      "outputs": [
        {
          "output_type": "execute_result",
          "data": {
            "text/plain": [
              "0.5071259084980397"
            ]
          },
          "metadata": {
            "tags": []
          },
          "execution_count": 25
        }
      ]
    },
    {
      "cell_type": "markdown",
      "metadata": {
        "id": "T6isqaNdAX0U"
      },
      "source": [
        "the error for this model is ---0.5071259084980397"
      ]
    },
    {
      "cell_type": "markdown",
      "metadata": {
        "id": "_x0UQ7akArC5"
      },
      "source": [
        "implementing another model--Polynomial Regression"
      ]
    },
    {
      "cell_type": "code",
      "metadata": {
        "colab": {
          "base_uri": "https://localhost:8080/"
        },
        "id": "C9Vfk1OIASZO",
        "outputId": "cd74aa8a-4dbd-443b-e0f0-1e5b57ec5cd4"
      },
      "source": [
        "from sklearn.preprocessing import PolynomialFeatures\n",
        "\n",
        "poly = PolynomialFeatures(degree = 4)\n",
        "x_poly = poly.fit_transform(train_x)\n",
        "\n",
        "poly.fit(x_poly, train_y)\n",
        "lin2 = LinearRegression()\n",
        "lin2.fit(x_poly, train_y)"
      ],
      "execution_count": null,
      "outputs": [
        {
          "output_type": "execute_result",
          "data": {
            "text/plain": [
              "LinearRegression(copy_X=True, fit_intercept=True, n_jobs=None, normalize=False)"
            ]
          },
          "metadata": {
            "tags": []
          },
          "execution_count": 27
        }
      ]
    },
    {
      "cell_type": "code",
      "metadata": {
        "colab": {
          "base_uri": "https://localhost:8080/"
        },
        "id": "SnutfPI0B996",
        "outputId": "45158432-2267-453e-9ddc-c9f0e575de44"
      },
      "source": [
        "prediction2 = lin2.predict(poly.fit_transform(test_x))\n",
        "##error calculation\n",
        "np.mean((prediction2-test_y)**2)"
      ],
      "execution_count": null,
      "outputs": [
        {
          "output_type": "execute_result",
          "data": {
            "text/plain": [
              "0.2898585222536153"
            ]
          },
          "metadata": {
            "tags": []
          },
          "execution_count": 28
        }
      ]
    },
    {
      "cell_type": "markdown",
      "metadata": {
        "id": "8Gcj3LpDCXnG"
      },
      "source": [
        "for this model the error is much less compared to the first model--0.2898585222536153"
      ]
    },
    {
      "cell_type": "markdown",
      "metadata": {
        "id": "iseXAQ59CkI_"
      },
      "source": [
        "Implementing the next model--Decision Tree Regression-CART"
      ]
    },
    {
      "cell_type": "code",
      "metadata": {
        "colab": {
          "base_uri": "https://localhost:8080/"
        },
        "id": "oAqMQWGoCVoW",
        "outputId": "aa244b50-4b68-4e7c-a887-9592b1e6b144"
      },
      "source": [
        "from sklearn.tree import DecisionTreeRegressor\n",
        "regressor = DecisionTreeRegressor(random_state=0)\n",
        "regressor.fit(train_x, train_y)"
      ],
      "execution_count": null,
      "outputs": [
        {
          "output_type": "execute_result",
          "data": {
            "text/plain": [
              "DecisionTreeRegressor(ccp_alpha=0.0, criterion='mse', max_depth=None,\n",
              "                      max_features=None, max_leaf_nodes=None,\n",
              "                      min_impurity_decrease=0.0, min_impurity_split=None,\n",
              "                      min_samples_leaf=1, min_samples_split=2,\n",
              "                      min_weight_fraction_leaf=0.0, presort='deprecated',\n",
              "                      random_state=0, splitter='best')"
            ]
          },
          "metadata": {
            "tags": []
          },
          "execution_count": 29
        }
      ]
    },
    {
      "cell_type": "code",
      "metadata": {
        "colab": {
          "base_uri": "https://localhost:8080/"
        },
        "id": "i79tXo65DCfj",
        "outputId": "e77df4cd-a622-42f4-a526-75546abf5f6e"
      },
      "source": [
        "prediction3 = regressor.predict(test_x)\n",
        "np.mean((prediction3-test_y)**2)"
      ],
      "execution_count": null,
      "outputs": [
        {
          "output_type": "execute_result",
          "data": {
            "text/plain": [
              "0.9269665377790276"
            ]
          },
          "metadata": {
            "tags": []
          },
          "execution_count": 30
        }
      ]
    },
    {
      "cell_type": "markdown",
      "metadata": {
        "id": "8X_PD0LtEGOr"
      },
      "source": [
        "for this model the error is much less compared to the first model--0.9269665377790276"
      ]
    },
    {
      "cell_type": "code",
      "metadata": {
        "colab": {
          "base_uri": "https://localhost:8080/",
          "height": 419
        },
        "id": "CM5bw0rUD9am",
        "outputId": "88e00e13-1697-4251-fef5-e7ae6d4acf26"
      },
      "source": [
        "pd.DataFrame({'actual':test_y,\n",
        "              'prediction':prediction3,\n",
        "              'diff':(test_y-prediction3)})"
      ],
      "execution_count": null,
      "outputs": [
        {
          "output_type": "execute_result",
          "data": {
            "text/html": [
              "<div>\n",
              "<style scoped>\n",
              "    .dataframe tbody tr th:only-of-type {\n",
              "        vertical-align: middle;\n",
              "    }\n",
              "\n",
              "    .dataframe tbody tr th {\n",
              "        vertical-align: top;\n",
              "    }\n",
              "\n",
              "    .dataframe thead th {\n",
              "        text-align: right;\n",
              "    }\n",
              "</style>\n",
              "<table border=\"1\" class=\"dataframe\">\n",
              "  <thead>\n",
              "    <tr style=\"text-align: right;\">\n",
              "      <th></th>\n",
              "      <th>actual</th>\n",
              "      <th>prediction</th>\n",
              "      <th>diff</th>\n",
              "    </tr>\n",
              "  </thead>\n",
              "  <tbody>\n",
              "    <tr>\n",
              "      <th>227</th>\n",
              "      <td>19.283152</td>\n",
              "      <td>19.253150</td>\n",
              "      <td>0.030002</td>\n",
              "    </tr>\n",
              "    <tr>\n",
              "      <th>209</th>\n",
              "      <td>26.943151</td>\n",
              "      <td>25.493150</td>\n",
              "      <td>1.450001</td>\n",
              "    </tr>\n",
              "    <tr>\n",
              "      <th>307</th>\n",
              "      <td>22.803150</td>\n",
              "      <td>23.343151</td>\n",
              "      <td>-0.540001</td>\n",
              "    </tr>\n",
              "    <tr>\n",
              "      <th>14</th>\n",
              "      <td>27.053150</td>\n",
              "      <td>26.873152</td>\n",
              "      <td>0.179998</td>\n",
              "    </tr>\n",
              "    <tr>\n",
              "      <th>334</th>\n",
              "      <td>20.193151</td>\n",
              "      <td>19.573150</td>\n",
              "      <td>0.620001</td>\n",
              "    </tr>\n",
              "    <tr>\n",
              "      <th>...</th>\n",
              "      <td>...</td>\n",
              "      <td>...</td>\n",
              "      <td>...</td>\n",
              "    </tr>\n",
              "    <tr>\n",
              "      <th>70</th>\n",
              "      <td>20.593151</td>\n",
              "      <td>20.053150</td>\n",
              "      <td>0.540001</td>\n",
              "    </tr>\n",
              "    <tr>\n",
              "      <th>244</th>\n",
              "      <td>16.913150</td>\n",
              "      <td>16.303150</td>\n",
              "      <td>0.610000</td>\n",
              "    </tr>\n",
              "    <tr>\n",
              "      <th>331</th>\n",
              "      <td>22.283152</td>\n",
              "      <td>21.633150</td>\n",
              "      <td>0.650002</td>\n",
              "    </tr>\n",
              "    <tr>\n",
              "      <th>153</th>\n",
              "      <td>18.803150</td>\n",
              "      <td>19.573150</td>\n",
              "      <td>-0.770000</td>\n",
              "    </tr>\n",
              "    <tr>\n",
              "      <th>262</th>\n",
              "      <td>20.213152</td>\n",
              "      <td>19.573150</td>\n",
              "      <td>0.640002</td>\n",
              "    </tr>\n",
              "  </tbody>\n",
              "</table>\n",
              "<p>72 rows × 3 columns</p>\n",
              "</div>"
            ],
            "text/plain": [
              "        actual  prediction      diff\n",
              "227  19.283152   19.253150  0.030002\n",
              "209  26.943151   25.493150  1.450001\n",
              "307  22.803150   23.343151 -0.540001\n",
              "14   27.053150   26.873152  0.179998\n",
              "334  20.193151   19.573150  0.620001\n",
              "..         ...         ...       ...\n",
              "70   20.593151   20.053150  0.540001\n",
              "244  16.913150   16.303150  0.610000\n",
              "331  22.283152   21.633150  0.650002\n",
              "153  18.803150   19.573150 -0.770000\n",
              "262  20.213152   19.573150  0.640002\n",
              "\n",
              "[72 rows x 3 columns]"
            ]
          },
          "metadata": {
            "tags": []
          },
          "execution_count": 31
        }
      ]
    },
    {
      "cell_type": "markdown",
      "metadata": {
        "id": "41JTDDDpHEct"
      },
      "source": [
        "Implementation of Random Forest with a max depth of 10"
      ]
    },
    {
      "cell_type": "code",
      "metadata": {
        "colab": {
          "base_uri": "https://localhost:8080/"
        },
        "id": "bckOhQrKEeWK",
        "outputId": "44d52d02-83ac-4c0c-f5bd-727e6ffbe6a2"
      },
      "source": [
        "from sklearn.ensemble import RandomForestRegressor\n",
        "reg = RandomForestRegressor(max_depth=10, random_state=0, n_estimators=100)\n",
        "reg.fit(train_x, train_y)"
      ],
      "execution_count": null,
      "outputs": [
        {
          "output_type": "execute_result",
          "data": {
            "text/plain": [
              "RandomForestRegressor(bootstrap=True, ccp_alpha=0.0, criterion='mse',\n",
              "                      max_depth=10, max_features='auto', max_leaf_nodes=None,\n",
              "                      max_samples=None, min_impurity_decrease=0.0,\n",
              "                      min_impurity_split=None, min_samples_leaf=1,\n",
              "                      min_samples_split=2, min_weight_fraction_leaf=0.0,\n",
              "                      n_estimators=100, n_jobs=None, oob_score=False,\n",
              "                      random_state=0, verbose=0, warm_start=False)"
            ]
          },
          "metadata": {
            "tags": []
          },
          "execution_count": 33
        }
      ]
    },
    {
      "cell_type": "code",
      "metadata": {
        "colab": {
          "base_uri": "https://localhost:8080/"
        },
        "id": "xXh7diK6HyU3",
        "outputId": "dc239d9b-369f-427b-cf0c-75d67d54500c"
      },
      "source": [
        "prediction4 =reg.predict(test_x)\n",
        "np.mean((prediction4-test_y)**2)"
      ],
      "execution_count": null,
      "outputs": [
        {
          "output_type": "execute_result",
          "data": {
            "text/plain": [
              "0.4880015922997202"
            ]
          },
          "metadata": {
            "tags": []
          },
          "execution_count": 34
        }
      ]
    },
    {
      "cell_type": "code",
      "metadata": {
        "colab": {
          "base_uri": "https://localhost:8080/",
          "height": 419
        },
        "id": "4fgCISIdIYpX",
        "outputId": "94ed225b-da8d-4445-8901-686e9812e3d2"
      },
      "source": [
        "pd.DataFrame({'actual':test_y,\n",
        "              'prediction':prediction4,\n",
        "              'diff':(test_y-prediction4)})"
      ],
      "execution_count": null,
      "outputs": [
        {
          "output_type": "execute_result",
          "data": {
            "text/html": [
              "<div>\n",
              "<style scoped>\n",
              "    .dataframe tbody tr th:only-of-type {\n",
              "        vertical-align: middle;\n",
              "    }\n",
              "\n",
              "    .dataframe tbody tr th {\n",
              "        vertical-align: top;\n",
              "    }\n",
              "\n",
              "    .dataframe thead th {\n",
              "        text-align: right;\n",
              "    }\n",
              "</style>\n",
              "<table border=\"1\" class=\"dataframe\">\n",
              "  <thead>\n",
              "    <tr style=\"text-align: right;\">\n",
              "      <th></th>\n",
              "      <th>actual</th>\n",
              "      <th>prediction</th>\n",
              "      <th>diff</th>\n",
              "    </tr>\n",
              "  </thead>\n",
              "  <tbody>\n",
              "    <tr>\n",
              "      <th>227</th>\n",
              "      <td>19.283152</td>\n",
              "      <td>18.901562</td>\n",
              "      <td>0.381590</td>\n",
              "    </tr>\n",
              "    <tr>\n",
              "      <th>209</th>\n",
              "      <td>26.943151</td>\n",
              "      <td>26.241970</td>\n",
              "      <td>0.701181</td>\n",
              "    </tr>\n",
              "    <tr>\n",
              "      <th>307</th>\n",
              "      <td>22.803150</td>\n",
              "      <td>23.157325</td>\n",
              "      <td>-0.354175</td>\n",
              "    </tr>\n",
              "    <tr>\n",
              "      <th>14</th>\n",
              "      <td>27.053150</td>\n",
              "      <td>26.618941</td>\n",
              "      <td>0.434209</td>\n",
              "    </tr>\n",
              "    <tr>\n",
              "      <th>334</th>\n",
              "      <td>20.193151</td>\n",
              "      <td>19.756686</td>\n",
              "      <td>0.436465</td>\n",
              "    </tr>\n",
              "    <tr>\n",
              "      <th>...</th>\n",
              "      <td>...</td>\n",
              "      <td>...</td>\n",
              "      <td>...</td>\n",
              "    </tr>\n",
              "    <tr>\n",
              "      <th>70</th>\n",
              "      <td>20.593151</td>\n",
              "      <td>20.775434</td>\n",
              "      <td>-0.182283</td>\n",
              "    </tr>\n",
              "    <tr>\n",
              "      <th>244</th>\n",
              "      <td>16.913150</td>\n",
              "      <td>17.255639</td>\n",
              "      <td>-0.342489</td>\n",
              "    </tr>\n",
              "    <tr>\n",
              "      <th>331</th>\n",
              "      <td>22.283152</td>\n",
              "      <td>21.980540</td>\n",
              "      <td>0.302612</td>\n",
              "    </tr>\n",
              "    <tr>\n",
              "      <th>153</th>\n",
              "      <td>18.803150</td>\n",
              "      <td>19.585747</td>\n",
              "      <td>-0.782597</td>\n",
              "    </tr>\n",
              "    <tr>\n",
              "      <th>262</th>\n",
              "      <td>20.213152</td>\n",
              "      <td>19.840212</td>\n",
              "      <td>0.372940</td>\n",
              "    </tr>\n",
              "  </tbody>\n",
              "</table>\n",
              "<p>72 rows × 3 columns</p>\n",
              "</div>"
            ],
            "text/plain": [
              "        actual  prediction      diff\n",
              "227  19.283152   18.901562  0.381590\n",
              "209  26.943151   26.241970  0.701181\n",
              "307  22.803150   23.157325 -0.354175\n",
              "14   27.053150   26.618941  0.434209\n",
              "334  20.193151   19.756686  0.436465\n",
              "..         ...         ...       ...\n",
              "70   20.593151   20.775434 -0.182283\n",
              "244  16.913150   17.255639 -0.342489\n",
              "331  22.283152   21.980540  0.302612\n",
              "153  18.803150   19.585747 -0.782597\n",
              "262  20.213152   19.840212  0.372940\n",
              "\n",
              "[72 rows x 3 columns]"
            ]
          },
          "metadata": {
            "tags": []
          },
          "execution_count": 35
        }
      ]
    },
    {
      "cell_type": "markdown",
      "metadata": {
        "id": "uIO9ZES_I85o"
      },
      "source": [
        "the Random Forest has provided the lowest error of ---0.4880015922997202"
      ]
    },
    {
      "cell_type": "code",
      "metadata": {
        "id": "u5GdvBnZJTQE"
      },
      "source": [
        ""
      ],
      "execution_count": null,
      "outputs": []
    }
  ]
}